{
 "cells": [
  {
   "cell_type": "code",
   "execution_count": 4,
   "metadata": {},
   "outputs": [],
   "source": [
    "import numpy as np\n",
    "import h5py\n",
    "import time\n",
    "import copy\n",
    "from random import randint\n",
    "import torch\n",
    "import pandas as pd\n",
    "import matplotlib.pyplot as plt"
   ]
  },
  {
   "cell_type": "code",
   "execution_count": 140,
   "metadata": {},
   "outputs": [],
   "source": [
    "#load MNIST data\n",
    "MNIST_data = h5py.File('MNISTdata.hdf5', 'r')\n",
    "x_train = np.float32(MNIST_data['x_train'][:] )\n",
    "y_train = np.int32(np.array(MNIST_data['y_train'][:,0]))\n",
    "x_test = np.float32( MNIST_data['x_test'][:] )\n",
    "y_test = np.int32( np.array( MNIST_data['y_test'][:,0] ) )\n",
    "MNIST_data.close()"
   ]
  },
  {
   "cell_type": "code",
   "execution_count": null,
   "metadata": {},
   "outputs": [],
   "source": []
  },
  {
   "cell_type": "markdown",
   "metadata": {},
   "source": [
    "## Problem 1"
   ]
  },
  {
   "cell_type": "code",
   "execution_count": 3,
   "metadata": {},
   "outputs": [],
   "source": [
    "#number of inputs\n",
    "num_inputs = 28*28\n",
    "#number of outputs\n",
    "num_outputs = 10"
   ]
  },
  {
   "cell_type": "code",
   "execution_count": 256,
   "metadata": {},
   "outputs": [
    {
     "data": {
      "text/plain": [
       "60000"
      ]
     },
     "execution_count": 256,
     "metadata": {},
     "output_type": "execute_result"
    }
   ],
   "source": [
    "y_train.size"
   ]
  },
  {
   "cell_type": "code",
   "execution_count": 4,
   "metadata": {},
   "outputs": [],
   "source": [
    "def vec_transpose(x):\n",
    "    y=np.array([x])\n",
    "    return y.T"
   ]
  },
  {
   "cell_type": "code",
   "execution_count": 5,
   "metadata": {},
   "outputs": [],
   "source": [
    "def normalize(x):\n",
    "    y=torch.FloatTensor(x)\n",
    "    mean=torch.mean(y)\n",
    "    std=torch.std(y)\n",
    "    y=(y-mean)/std\n",
    "    return y"
   ]
  },
  {
   "cell_type": "code",
   "execution_count": 6,
   "metadata": {},
   "outputs": [],
   "source": [
    "def cross_entropy_error(x,y):\n",
    "    return -np.log(x[int(y)])"
   ]
  },
  {
   "cell_type": "code",
   "execution_count": 7,
   "metadata": {},
   "outputs": [],
   "source": [
    "def softmax(z):\n",
    "    ez=np.exp(z)\n",
    "    return ez/np.sum(ez)"
   ]
  },
  {
   "cell_type": "code",
   "execution_count": 73,
   "metadata": {},
   "outputs": [],
   "source": [
    "def grad_J(x,y,theta,output_size):\n",
    "    ey=np.zeros(output_size)\n",
    "    ey[int(y)]=1\n",
    "    #print(np.dot(theta,x))\n",
    "    out=-np.dot(vec_transpose(ey-softmax(np.dot(theta,x))),np.array([x]))\n",
    "    return out"
   ]
  },
  {
   "cell_type": "code",
   "execution_count": 130,
   "metadata": {},
   "outputs": [],
   "source": [
    "class Logistics():\n",
    "    def __init__(self,input_size,output_size,batch_size,data_x,data_y,loss_function,grad,theta_0):\n",
    "        self.outsize=output_size\n",
    "        self.insize=input_size\n",
    "        tensor_x=torch.FloatTensor(data_x)\n",
    "        batch_num=int(tensor_x.size()[0]/batch_size)\n",
    "        self.x=tensor_x.reshape(batch_num,batch_size,input_size)\n",
    "        tensor_y=torch.FloatTensor(data_y)\n",
    "        self.y=tensor_y.reshape(batch_num,batch_size,1)\n",
    "        self.loss=0.0\n",
    "        self.lossf=loss_function\n",
    "        self.theta=theta_0\n",
    "        self.alpha=0.1\n",
    "        self.grad=grad\n",
    "        \n",
    "    def adjust_rate(self,alpha):\n",
    "        self.alpha=alpha\n",
    "        \n",
    "    def forward(self):\n",
    "        temp_x=self.x.reshape(batch_num*batch_size,self.insize)\n",
    "        temp_y=self.y.reshape(batch_num*batch_size,1)\n",
    "        new_index=torch.randperm(batch_num*batch_size)\n",
    "        new_x=temp_x[new_index,:]\n",
    "        new_y=temp_y[new_index,:]\n",
    "        self.x=new_x.reshape(batch_num,batch_size,self.insize)\n",
    "        self.y=new_y.reshape(batch_num,batch_size,1)\n",
    "   \n",
    "        batch_num=self.x.size()[0]\n",
    "        #print(batch_num)\n",
    "        batch_size=self.x.size()[1]\n",
    "        i=0\n",
    "        for i in range(batch_num):\n",
    "            #print(i)\n",
    "            grad_list=[]\n",
    "            for j in range(batch_size):\n",
    "                x=self.x[i,j,:].numpy()\n",
    "                y=self.y[i,j,:].numpy()[0]\n",
    "                grad=self.grad(x,y,self.theta,self.outsize)\n",
    "                grad_list.append(grad)\n",
    "            grad_result=np.mean(grad_list,axis=0)\n",
    "            self.theta-=self.alpha*grad_result\n",
    "            \n",
    "\n",
    "        \n",
    "    def predict(self,data_x):\n",
    "        tensor_x=torch.FloatTensor(data_x)\n",
    "\n",
    "        sample_num=int(tensor_x.size()[0])\n",
    "\n",
    "        output_list=[]\n",
    "        for i in range(sample_num):\n",
    "            x=tensor_x[i,:].numpy()\n",
    "            y=softmax(np.dot(self.theta,x))\n",
    "            output_list.append(y)\n",
    "        return output_list\n",
    "    \n",
    "    def get_error(self):\n",
    "        batch_num=self.x.size()[0]\n",
    "        batch_size=self.x.size()[1]\n",
    "        data_x=self.x.reshape(batch_num*batch_size,self.insize)\n",
    "        data_y=self.y.reshape((batch_num*batch_size,1))\n",
    "        y_list=self.predict(data_x)\n",
    "        \n",
    "        error_list=[]\n",
    "        for i in range(len(y_list)):\n",
    "            y=y_list[i]\n",
    "            y_real=data_y[i,:].numpy()[0]\n",
    "            error_list.append(self.lossf(y,y_real))\n",
    "            \n",
    "        self.loss=np.mean(error_list)\n",
    "        return np.mean(error_list)\n",
    "    \n",
    "    def save(self):\n",
    "        return self.theta"
   ]
  },
  {
   "cell_type": "code",
   "execution_count": 244,
   "metadata": {},
   "outputs": [
    {
     "data": {
      "text/plain": [
       "tensor([[1., 1., 1.],\n",
       "        [1., 1., 1.],\n",
       "        [1., 1., 1.],\n",
       "        [1., 1., 1.],\n",
       "        [1., 1., 1.],\n",
       "        [1., 1., 1.],\n",
       "        [1., 1., 1.],\n",
       "        [1., 1., 1.],\n",
       "        [1., 1., 1.],\n",
       "        [1., 1., 1.]])"
      ]
     },
     "execution_count": 244,
     "metadata": {},
     "output_type": "execute_result"
    }
   ],
   "source": [
    "t=torch.FloatTensor(np.ones((10,3)))\n",
    "index=torch.randperm(10)\n",
    "tt=t[index,:]\n",
    "tt"
   ]
  },
  {
   "cell_type": "code",
   "execution_count": 141,
   "metadata": {},
   "outputs": [],
   "source": [
    "\n",
    "X=normalize(x_train)\n",
    "Y=torch.FloatTensor(y_train)"
   ]
  },
  {
   "cell_type": "code",
   "execution_count": 308,
   "metadata": {},
   "outputs": [],
   "source": [
    "t0=np.zeros((num_outputs,num_inputs))\n",
    "model=Logistics(input_size=num_inputs,output_size=num_outputs,batch_size=2000,data_x=X,data_y=Y,loss_function=cross_entropy_error,grad=grad_J,theta_0=t0)"
   ]
  },
  {
   "cell_type": "code",
   "execution_count": 10,
   "metadata": {},
   "outputs": [],
   "source": [
    "loss=[]\n",
    "accur=[]\n",
    "\n",
    "def train(N):\n",
    "    cache=0\n",
    "    \n",
    "    for i in range(N):\n",
    "        model.forward()\n",
    "        if i%5==0:\n",
    "            print(\"Loop:{},Loss:{}\".format(i,model.get_error()))\n",
    "            loss.append(model.get_error())\n",
    "            accur.append(test())\n",
    "        if i%20==0:\n",
    "            cache=model.save()\n",
    "            \n",
    "    return model.save()"
   ]
  },
  {
   "cell_type": "code",
   "execution_count": 142,
   "metadata": {},
   "outputs": [],
   "source": [
    "X_test=normalize(x_test)"
   ]
  },
  {
   "cell_type": "code",
   "execution_count": 12,
   "metadata": {},
   "outputs": [],
   "source": [
    "\n",
    "def test():\n",
    "    total_correct = 0\n",
    "\n",
    "    result_test=model.predict(X_test)\n",
    "    \n",
    "    for i in range(len(result_test)):\n",
    "        prediction = np.argmax(result_test[i])\n",
    "        real=y_test[i]\n",
    "        if(prediction==real):\n",
    "            total_correct+=1\n",
    "            \n",
    "    return total_correct/len(result_test)\n",
    "        "
   ]
  },
  {
   "cell_type": "code",
   "execution_count": 9,
   "metadata": {},
   "outputs": [],
   "source": [
    "def draw():\n",
    "    line_x=[5*k for k in range(len(loss))]\n",
    "    fig, ax1 = plt.subplots(figsize=(8,5))\n",
    "\n",
    "    ax1.set_xlabel('Time')\n",
    "    ax1.set_ylabel('Loss')\n",
    "    ax1.plot(line_x, loss, 'b-')\n",
    "    ax1.tick_params(axis='y')\n",
    "\n",
    "    ax2 = ax1.twinx()  # instantiate a second axes that shares the same x-axis\n",
    "\n",
    "    ax2.set_ylabel('Accuracy')  # we already handled the x-label with ax1\n",
    "    line_x=[5*k for k in range(len(accur))]\n",
    "    ax2.plot(line_x, accur, \"r-\")\n",
    "    ax2.tick_params(axis='y')\n",
    "\n",
    "    fig.tight_layout()  # otherwise the right y-label is slightly clipped\n",
    "    plt.show()"
   ]
  },
  {
   "cell_type": "code",
   "execution_count": 312,
   "metadata": {},
   "outputs": [
    {
     "name": "stdout",
     "output_type": "stream",
     "text": [
      "Loop:0,Loss:0.3226412105313138\n",
      "Loop:5,Loss:0.320939085469328\n",
      "Loop:10,Loss:0.32003699531946855\n",
      "Loop:15,Loss:0.31891673802668236\n",
      "Loop:20,Loss:0.31802079451594717\n",
      "Loop:25,Loss:0.31733799061407847\n",
      "Loop:30,Loss:0.31616660643448985\n",
      "Loop:35,Loss:0.3157262913116052\n",
      "Loop:40,Loss:0.31470158999784276\n",
      "Loop:45,Loss:0.3137906716171854\n",
      "Loop:50,Loss:0.3133015686754612\n",
      "Loop:55,Loss:0.312191800246283\n",
      "Loop:60,Loss:0.3111781086669245\n",
      "Loop:65,Loss:0.310641113723451\n",
      "Loop:70,Loss:0.3101352970361258\n",
      "Loop:75,Loss:0.3090662016493978\n",
      "Loop:80,Loss:0.3090059319623542\n",
      "Loop:85,Loss:0.30817987676385694\n",
      "Loop:90,Loss:0.30730112847874475\n",
      "Loop:95,Loss:0.3068638365606647\n",
      "Loop:100,Loss:0.30635364331969267\n",
      "Loop:105,Loss:0.3055128496886551\n",
      "Loop:110,Loss:0.30491416199954735\n",
      "Loop:115,Loss:0.30480858088161605\n",
      "Loop:120,Loss:0.30391474772518673\n",
      "Loop:125,Loss:0.30361017398435686\n",
      "Loop:130,Loss:0.30269336300047567\n",
      "Loop:135,Loss:0.3021146888804534\n",
      "Loop:140,Loss:0.30179590586912264\n",
      "Loop:145,Loss:0.30133439375657\n",
      "Loop:150,Loss:0.30089054763437645\n",
      "Loop:155,Loss:0.30037778762467865\n",
      "Loop:160,Loss:0.29986634825335934\n",
      "Loop:165,Loss:0.2997909036002879\n",
      "Loop:170,Loss:0.29946603933467236\n",
      "Loop:175,Loss:0.2986810326530332\n",
      "Loop:180,Loss:0.2984012658723031\n",
      "Loop:185,Loss:0.29775112907943413\n",
      "Loop:190,Loss:0.2976590658475835\n",
      "Loop:195,Loss:0.29713052267310264\n"
     ]
    },
    {
     "data": {
      "text/plain": [
       "array([[ 0.00306999,  0.00306999,  0.00306999, ...,  0.00306999,\n",
       "         0.00306999,  0.00306999],\n",
       "       [ 0.00732626,  0.00732626,  0.00732626, ...,  0.00732626,\n",
       "         0.00732626,  0.00732626],\n",
       "       [-0.00719601, -0.00719601, -0.00719601, ..., -0.00719601,\n",
       "        -0.00719601, -0.00719601],\n",
       "       ...,\n",
       "       [-0.00347699, -0.00347699, -0.00347699, ..., -0.00347699,\n",
       "        -0.00347699, -0.00347699],\n",
       "       [ 0.00585782,  0.00585782,  0.00585782, ...,  0.00585782,\n",
       "         0.00585782,  0.00585782],\n",
       "       [ 0.00461005,  0.00461005,  0.00461005, ...,  0.00461005,\n",
       "         0.00461005,  0.00461005]])"
      ]
     },
     "execution_count": 312,
     "metadata": {},
     "output_type": "execute_result"
    }
   ],
   "source": [
    "model.adjust_rate(0.08)\n",
    "train(200)"
   ]
  },
  {
   "cell_type": "code",
   "execution_count": 313,
   "metadata": {},
   "outputs": [
    {
     "data": {
      "image/png": "[encoded data removed]",
      "text/plain": [
       "<Figure size 576x360 with 2 Axes>"
      ]
     },
     "metadata": {
      "needs_background": "light"
     },
     "output_type": "display_data"
    }
   ],
   "source": [
    "draw()"
   ]
  },
  {
   "cell_type": "code",
   "execution_count": 314,
   "metadata": {},
   "outputs": [
    {
     "name": "stdout",
     "output_type": "stream",
     "text": [
      "Loop:0,Loss:0.29653884995566115\n"
     ]
    },
    {
     "data": {
      "text/plain": [
       "array([[ 0.00306062,  0.00306062,  0.00306062, ...,  0.00306062,\n",
       "         0.00306062,  0.00306062],\n",
       "       [ 0.0073642 ,  0.0073642 ,  0.0073642 , ...,  0.0073642 ,\n",
       "         0.0073642 ,  0.0073642 ],\n",
       "       [-0.00716351, -0.00716351, -0.00716351, ..., -0.00716351,\n",
       "        -0.00716351, -0.00716351],\n",
       "       ...,\n",
       "       [-0.00357217, -0.00357217, -0.00357217, ..., -0.00357217,\n",
       "        -0.00357217, -0.00357217],\n",
       "       [ 0.00591046,  0.00591046,  0.00591046, ...,  0.00591046,\n",
       "         0.00591046,  0.00591046],\n",
       "       [ 0.00460565,  0.00460565,  0.00460565, ...,  0.00460565,\n",
       "         0.00460565,  0.00460565]])"
      ]
     },
     "execution_count": 314,
     "metadata": {},
     "output_type": "execute_result"
    }
   ],
   "source": [
    "res=train(1)\n",
    "res"
   ]
  },
  {
   "cell_type": "code",
   "execution_count": 317,
   "metadata": {},
   "outputs": [],
   "source": [
    "data=pd.DataFrame(res)\n",
    "data.to_csv(\"Q1.csv\")\n",
    "eva=pd.DataFrame({\"Loss\":loss,\"Accuracy\":accur})\n",
    "eva.to_csv(\"Q1evaluation.csv\")"
   ]
  },
  {
   "cell_type": "markdown",
   "metadata": {},
   "source": [
    "## Problem 2"
   ]
  },
  {
   "cell_type": "code",
   "execution_count": 52,
   "metadata": {},
   "outputs": [],
   "source": [
    "def grad_C(x,y,theta,output_size):\n",
    "    ey=np.zeros(output_size)\n",
    "    ey[int(y)]=1\n",
    "    #print(np.dot(theta,x))\n",
    "    out=-np.dot(vec_transpose(ey-softmax(np.dot(theta[0],x))),np.array([x]))\n",
    "    return out"
   ]
  },
  {
   "cell_type": "code",
   "execution_count": 319,
   "metadata": {},
   "outputs": [],
   "source": [
    "def grad_beta(x,y,theta,output_size):\n",
    "    ey=np.zeros(output_size)\n",
    "    ey[int(y)]=1\n",
    "    #print(np.dot(theta,x))\n",
    "    out=-(ey-softmax(np.dot(theta[0],x)+theta[1]))\n",
    "    return out"
   ]
  },
  {
   "cell_type": "code",
   "execution_count": 143,
   "metadata": {
    "code_folding": []
   },
   "outputs": [],
   "source": [
    "class NN():\n",
    "    def __init__(self,input_size,output_size,batch_size,data_x,data_y,loss_function,grad,init,f):\n",
    "        '''batch_size: how many elements in one batch\n",
    "        loss_function: f(np.array,np.array)->double\n",
    "        grad: a list of grad function, each of which f(x,y,theta,output_size)->np.array\n",
    "        init: initial theta, which is a list of all parameters. (i.e. [C,b1,W,b2])\n",
    "        f: the fitting function. f(x)=pred_y\n",
    "        '''\n",
    "        self.outsize=output_size\n",
    "        self.insize=input_size\n",
    "        tensor_x=torch.FloatTensor(data_x)\n",
    "        batch_num=int(tensor_x.size()[0]/batch_size)\n",
    "        self.x=tensor_x.reshape(batch_num,batch_size,input_size)\n",
    "        tensor_y=torch.FloatTensor(data_y)\n",
    "        self.y=tensor_y.reshape(batch_num,batch_size,1)\n",
    "        self.loss=0.0\n",
    "        self.lossf=loss_function\n",
    "        self.theta=init\n",
    "        self.alpha=0.1\n",
    "        self.grad=grad\n",
    "        self.f=f\n",
    "        \n",
    "    def adjust_rate(self,alpha):\n",
    "        self.alpha=alpha\n",
    "        \n",
    "    def forward(self):\n",
    "        batch_num=self.x.size()[0]\n",
    "        batch_size=self.x.size()[1]\n",
    "        theta_num=len(self.theta)\n",
    "        \n",
    "        #Shuffle\n",
    "        temp_x=self.x.reshape(batch_num*batch_size,self.insize)\n",
    "        temp_y=self.y.reshape(batch_num*batch_size,1)\n",
    "        new_index=torch.randperm(batch_num*batch_size)\n",
    "        new_x=temp_x[new_index,:]\n",
    "        new_y=temp_y[new_index,:]\n",
    "        self.x=new_x.reshape(batch_num,batch_size,self.insize)\n",
    "        self.y=new_y.reshape(batch_num,batch_size,1)\n",
    "        \n",
    "        #Update parameters\n",
    "        for i in range(batch_num):\n",
    "            grad_list=[[] for k in range(theta_num)]\n",
    "\n",
    "            for j in range(batch_size):               \n",
    "                x=self.x[i,j,:].numpy()\n",
    "                y=self.y[i,j,:].numpy()[0]\n",
    "\n",
    "                for k in range(theta_num):\n",
    "                    outsize=self.outsize\n",
    "                    grad_theta=self.grad[k](x,y,self.theta,outsize)\n",
    "                    grad_list[k].append(grad_theta)\n",
    "\n",
    "            for k in range(theta_num):\n",
    "                grad_result=np.mean(grad_list[k],axis=0)\n",
    "                self.theta[k]-=self.alpha*grad_result\n",
    "            \n",
    "\n",
    "        \n",
    "    def predict(self,data_x):\n",
    "        tensor_x=torch.FloatTensor(data_x)\n",
    "\n",
    "        sample_num=int(tensor_x.size()[0])\n",
    "\n",
    "        output_list=[]\n",
    "        for i in range(sample_num):\n",
    "            x=tensor_x[i,:].numpy()\n",
    "            y=self.f(x,self.theta)\n",
    "            output_list.append(y)\n",
    "        return output_list\n",
    "    \n",
    "    def get_error(self):\n",
    "        batch_num=self.x.size()[0]\n",
    "        batch_size=self.x.size()[1]\n",
    "        data_x=self.x.reshape(batch_num*batch_size,self.insize)\n",
    "        data_y=self.y.reshape((batch_num*batch_size,1))\n",
    "        y_list=self.predict(data_x)\n",
    "        \n",
    "        error_list=[]\n",
    "        for i in range(len(y_list)):\n",
    "            y=y_list[i]\n",
    "            y_real=data_y[i,:].numpy()[0]\n",
    "            error_list.append(self.lossf(y,y_real))\n",
    "            \n",
    "        self.loss=np.mean(error_list)\n",
    "        return np.mean(error_list)\n",
    "    \n",
    "    def save(self):\n",
    "        return self.theta"
   ]
  },
  {
   "cell_type": "code",
   "execution_count": 55,
   "metadata": {},
   "outputs": [],
   "source": [
    "def f_1(x,theta):\n",
    "    return softmax(np.dot(theta[0],x))"
   ]
  },
  {
   "cell_type": "code",
   "execution_count": 60,
   "metadata": {},
   "outputs": [],
   "source": [
    "X=normalize(x_train)\n",
    "Y=torch.FloatTensor(y_train)\n",
    "X_test=normalize(x_test)"
   ]
  },
  {
   "cell_type": "code",
   "execution_count": 66,
   "metadata": {},
   "outputs": [],
   "source": [
    "C0=np.zeros((num_outputs,num_inputs))\n",
    "#C0=np.random.rand(num_outputs,num_inputs)\n",
    "b0=np.zeros(num_outputs)\n",
    "#b0=np.random.rand(num_outputs)\n",
    "theta_0=[C0]\n",
    "grad_f=[grad_C]"
   ]
  },
  {
   "cell_type": "code",
   "execution_count": 79,
   "metadata": {},
   "outputs": [],
   "source": [
    "model=NN(input_size=num_inputs,output_size=num_outputs,batch_size=2000,data_x=X,data_y=Y,loss_function=cross_entropy_error,grad=grad_f,init=theta_0,f=f_1)"
   ]
  },
  {
   "cell_type": "code",
   "execution_count": 68,
   "metadata": {},
   "outputs": [],
   "source": [
    "def test():\n",
    "    total_correct = 0\n",
    "\n",
    "    result_test=model.predict(X_test)\n",
    "    \n",
    "    for i in range(len(result_test)):\n",
    "        prediction = np.argmax(result_test[i])\n",
    "        real=y_test[i]\n",
    "        if(prediction==real):\n",
    "            total_correct+=1\n",
    "            \n",
    "    return total_correct/len(result_test)"
   ]
  },
  {
   "cell_type": "code",
   "execution_count": 71,
   "metadata": {},
   "outputs": [],
   "source": [
    "\n",
    "def train(N):\n",
    "    cache=0\n",
    "    \n",
    "    for i in range(N):\n",
    "        model.forward()\n",
    "        \n",
    "        if i%5==0: \n",
    "            l=model.get_error()\n",
    "            print(\"Loop:{},Loss:{}\".format(i,l))\n",
    "            loss.append(l)\n",
    "            accur.append(test())\n",
    "        if i%20==0:\n",
    "            cache=model.save()\n",
    "            \n",
    "    return model.save()"
   ]
  },
  {
   "cell_type": "code",
   "execution_count": 75,
   "metadata": {},
   "outputs": [],
   "source": [
    "t0=np.zeros((num_outputs,num_inputs))\n",
    "model=Logistics(input_size=num_inputs,output_size=num_outputs,batch_size=2000,data_x=X,data_y=Y,loss_function=cross_entropy_error,grad=grad_J,theta_0=t0)"
   ]
  },
  {
   "cell_type": "code",
   "execution_count": 77,
   "metadata": {},
   "outputs": [
    {
     "name": "stdout",
     "output_type": "stream",
     "text": [
      "Loop:0,Loss:0.5174703811435837\n",
      "Loop:5,Loss:0.4449572057044485\n",
      "Loop:10,Loss:0.3997237029108156\n",
      "Loop:15,Loss:0.3672998300400347\n",
      "Loop:20,Loss:0.34297989196910383\n"
     ]
    },
    {
     "ename": "KeyboardInterrupt",
     "evalue": "",
     "output_type": "error",
     "traceback": [
      "\u001b[1;31m---------------------------------------------------------------------------\u001b[0m",
      "\u001b[1;31mKeyboardInterrupt\u001b[0m                         Traceback (most recent call last)",
      "\u001b[1;32m<ipython-input-77-7a7a1c0f6b67>\u001b[0m in \u001b[0;36m<module>\u001b[1;34m\u001b[0m\n\u001b[0;32m      1\u001b[0m \u001b[0mmodel\u001b[0m\u001b[1;33m.\u001b[0m\u001b[0madjust_rate\u001b[0m\u001b[1;33m(\u001b[0m\u001b[1;36m0.1\u001b[0m\u001b[1;33m)\u001b[0m\u001b[1;33m\u001b[0m\u001b[1;33m\u001b[0m\u001b[0m\n\u001b[1;32m----> 2\u001b[1;33m \u001b[0mtrain\u001b[0m\u001b[1;33m(\u001b[0m\u001b[1;36m50\u001b[0m\u001b[1;33m)\u001b[0m\u001b[1;33m\u001b[0m\u001b[1;33m\u001b[0m\u001b[0m\n\u001b[0m",
      "\u001b[1;32m<ipython-input-71-ad8570dac2b0>\u001b[0m in \u001b[0;36mtrain\u001b[1;34m(N)\u001b[0m\n\u001b[0;32m      3\u001b[0m \u001b[1;33m\u001b[0m\u001b[0m\n\u001b[0;32m      4\u001b[0m     \u001b[1;32mfor\u001b[0m \u001b[0mi\u001b[0m \u001b[1;32min\u001b[0m \u001b[0mrange\u001b[0m\u001b[1;33m(\u001b[0m\u001b[0mN\u001b[0m\u001b[1;33m)\u001b[0m\u001b[1;33m:\u001b[0m\u001b[1;33m\u001b[0m\u001b[1;33m\u001b[0m\u001b[0m\n\u001b[1;32m----> 5\u001b[1;33m         \u001b[0mmodel\u001b[0m\u001b[1;33m.\u001b[0m\u001b[0mforward\u001b[0m\u001b[1;33m(\u001b[0m\u001b[1;33m)\u001b[0m\u001b[1;33m\u001b[0m\u001b[1;33m\u001b[0m\u001b[0m\n\u001b[0m\u001b[0;32m      6\u001b[0m \u001b[1;33m\u001b[0m\u001b[0m\n\u001b[0;32m      7\u001b[0m         \u001b[1;32mif\u001b[0m \u001b[0mi\u001b[0m\u001b[1;33m%\u001b[0m\u001b[1;36m5\u001b[0m\u001b[1;33m==\u001b[0m\u001b[1;36m0\u001b[0m\u001b[1;33m:\u001b[0m\u001b[1;33m\u001b[0m\u001b[1;33m\u001b[0m\u001b[0m\n",
      "\u001b[1;32m<ipython-input-74-a7cff541cdc6>\u001b[0m in \u001b[0;36mforward\u001b[1;34m(self)\u001b[0m\n\u001b[0;32m     32\u001b[0m                 \u001b[0mgrad_list\u001b[0m\u001b[1;33m.\u001b[0m\u001b[0mappend\u001b[0m\u001b[1;33m(\u001b[0m\u001b[0mgrad\u001b[0m\u001b[1;33m)\u001b[0m\u001b[1;33m\u001b[0m\u001b[1;33m\u001b[0m\u001b[0m\n\u001b[0;32m     33\u001b[0m             \u001b[0mgrad_result\u001b[0m\u001b[1;33m=\u001b[0m\u001b[0mnp\u001b[0m\u001b[1;33m.\u001b[0m\u001b[0mmean\u001b[0m\u001b[1;33m(\u001b[0m\u001b[0mgrad_list\u001b[0m\u001b[1;33m,\u001b[0m\u001b[0maxis\u001b[0m\u001b[1;33m=\u001b[0m\u001b[1;36m0\u001b[0m\u001b[1;33m)\u001b[0m\u001b[1;33m\u001b[0m\u001b[1;33m\u001b[0m\u001b[0m\n\u001b[1;32m---> 34\u001b[1;33m             \u001b[0mself\u001b[0m\u001b[1;33m.\u001b[0m\u001b[0mtheta\u001b[0m\u001b[1;33m-=\u001b[0m\u001b[0mself\u001b[0m\u001b[1;33m.\u001b[0m\u001b[0malpha\u001b[0m\u001b[1;33m*\u001b[0m\u001b[0mgrad_result\u001b[0m\u001b[1;33m\u001b[0m\u001b[1;33m\u001b[0m\u001b[0m\n\u001b[0m\u001b[0;32m     35\u001b[0m \u001b[1;33m\u001b[0m\u001b[0m\n\u001b[0;32m     36\u001b[0m         \u001b[0mtemp_x\u001b[0m\u001b[1;33m=\u001b[0m\u001b[0mself\u001b[0m\u001b[1;33m.\u001b[0m\u001b[0mx\u001b[0m\u001b[1;33m.\u001b[0m\u001b[0mreshape\u001b[0m\u001b[1;33m(\u001b[0m\u001b[0mbatch_num\u001b[0m\u001b[1;33m*\u001b[0m\u001b[0mbatch_size\u001b[0m\u001b[1;33m,\u001b[0m\u001b[0mself\u001b[0m\u001b[1;33m.\u001b[0m\u001b[0minsize\u001b[0m\u001b[1;33m)\u001b[0m\u001b[1;33m\u001b[0m\u001b[1;33m\u001b[0m\u001b[0m\n",
      "\u001b[1;31mKeyboardInterrupt\u001b[0m: "
     ]
    }
   ],
   "source": [
    "model.adjust_rate(0.1)\n",
    "train(50)"
   ]
  },
  {
   "cell_type": "code",
   "execution_count": 80,
   "metadata": {},
   "outputs": [
    {
     "name": "stdout",
     "output_type": "stream",
     "text": [
      "Loop:0,Loss:0.49501269071969956\n",
      "Loop:5,Loss:0.4257129088448847\n",
      "Loop:10,Loss:0.3883778862760139\n"
     ]
    },
    {
     "ename": "KeyboardInterrupt",
     "evalue": "",
     "output_type": "error",
     "traceback": [
      "\u001b[1;31m---------------------------------------------------------------------------\u001b[0m",
      "\u001b[1;31mKeyboardInterrupt\u001b[0m                         Traceback (most recent call last)",
      "\u001b[1;32m<ipython-input-80-7a7a1c0f6b67>\u001b[0m in \u001b[0;36m<module>\u001b[1;34m\u001b[0m\n\u001b[0;32m      1\u001b[0m \u001b[0mmodel\u001b[0m\u001b[1;33m.\u001b[0m\u001b[0madjust_rate\u001b[0m\u001b[1;33m(\u001b[0m\u001b[1;36m0.1\u001b[0m\u001b[1;33m)\u001b[0m\u001b[1;33m\u001b[0m\u001b[1;33m\u001b[0m\u001b[0m\n\u001b[1;32m----> 2\u001b[1;33m \u001b[0mtrain\u001b[0m\u001b[1;33m(\u001b[0m\u001b[1;36m50\u001b[0m\u001b[1;33m)\u001b[0m\u001b[1;33m\u001b[0m\u001b[1;33m\u001b[0m\u001b[0m\n\u001b[0m",
      "\u001b[1;32m<ipython-input-71-ad8570dac2b0>\u001b[0m in \u001b[0;36mtrain\u001b[1;34m(N)\u001b[0m\n\u001b[0;32m      3\u001b[0m \u001b[1;33m\u001b[0m\u001b[0m\n\u001b[0;32m      4\u001b[0m     \u001b[1;32mfor\u001b[0m \u001b[0mi\u001b[0m \u001b[1;32min\u001b[0m \u001b[0mrange\u001b[0m\u001b[1;33m(\u001b[0m\u001b[0mN\u001b[0m\u001b[1;33m)\u001b[0m\u001b[1;33m:\u001b[0m\u001b[1;33m\u001b[0m\u001b[1;33m\u001b[0m\u001b[0m\n\u001b[1;32m----> 5\u001b[1;33m         \u001b[0mmodel\u001b[0m\u001b[1;33m.\u001b[0m\u001b[0mforward\u001b[0m\u001b[1;33m(\u001b[0m\u001b[1;33m)\u001b[0m\u001b[1;33m\u001b[0m\u001b[1;33m\u001b[0m\u001b[0m\n\u001b[0m\u001b[0;32m      6\u001b[0m \u001b[1;33m\u001b[0m\u001b[0m\n\u001b[0;32m      7\u001b[0m         \u001b[1;32mif\u001b[0m \u001b[0mi\u001b[0m\u001b[1;33m%\u001b[0m\u001b[1;36m5\u001b[0m\u001b[1;33m==\u001b[0m\u001b[1;36m0\u001b[0m\u001b[1;33m:\u001b[0m\u001b[1;33m\u001b[0m\u001b[1;33m\u001b[0m\u001b[0m\n",
      "\u001b[1;32m<ipython-input-51-e9f01ceedffb>\u001b[0m in \u001b[0;36mforward\u001b[1;34m(self)\u001b[0m\n\u001b[0;32m     35\u001b[0m                 \u001b[1;32mfor\u001b[0m \u001b[0mk\u001b[0m \u001b[1;32min\u001b[0m \u001b[0mrange\u001b[0m\u001b[1;33m(\u001b[0m\u001b[0mtheta_num\u001b[0m\u001b[1;33m)\u001b[0m\u001b[1;33m:\u001b[0m\u001b[1;33m\u001b[0m\u001b[1;33m\u001b[0m\u001b[0m\n\u001b[0;32m     36\u001b[0m                     \u001b[0moutsize\u001b[0m\u001b[1;33m=\u001b[0m\u001b[0mself\u001b[0m\u001b[1;33m.\u001b[0m\u001b[0moutsize\u001b[0m\u001b[1;33m\u001b[0m\u001b[1;33m\u001b[0m\u001b[0m\n\u001b[1;32m---> 37\u001b[1;33m                     \u001b[0mgrad_theta\u001b[0m\u001b[1;33m=\u001b[0m\u001b[0mself\u001b[0m\u001b[1;33m.\u001b[0m\u001b[0mgrad\u001b[0m\u001b[1;33m[\u001b[0m\u001b[0mk\u001b[0m\u001b[1;33m]\u001b[0m\u001b[1;33m(\u001b[0m\u001b[0mx\u001b[0m\u001b[1;33m,\u001b[0m\u001b[0my\u001b[0m\u001b[1;33m,\u001b[0m\u001b[0mself\u001b[0m\u001b[1;33m.\u001b[0m\u001b[0mtheta\u001b[0m\u001b[1;33m,\u001b[0m\u001b[0moutsize\u001b[0m\u001b[1;33m)\u001b[0m\u001b[1;33m\u001b[0m\u001b[1;33m\u001b[0m\u001b[0m\n\u001b[0m\u001b[0;32m     38\u001b[0m                     \u001b[0mgrad_list\u001b[0m\u001b[1;33m[\u001b[0m\u001b[0mk\u001b[0m\u001b[1;33m]\u001b[0m\u001b[1;33m.\u001b[0m\u001b[0mappend\u001b[0m\u001b[1;33m(\u001b[0m\u001b[0mgrad_theta\u001b[0m\u001b[1;33m)\u001b[0m\u001b[1;33m\u001b[0m\u001b[1;33m\u001b[0m\u001b[0m\n\u001b[0;32m     39\u001b[0m \u001b[1;33m\u001b[0m\u001b[0m\n",
      "\u001b[1;32m<ipython-input-52-7c25da32cf2a>\u001b[0m in \u001b[0;36mgrad_C\u001b[1;34m(x, y, theta, output_size)\u001b[0m\n\u001b[0;32m      3\u001b[0m     \u001b[0mey\u001b[0m\u001b[1;33m[\u001b[0m\u001b[0mint\u001b[0m\u001b[1;33m(\u001b[0m\u001b[0my\u001b[0m\u001b[1;33m)\u001b[0m\u001b[1;33m]\u001b[0m\u001b[1;33m=\u001b[0m\u001b[1;36m1\u001b[0m\u001b[1;33m\u001b[0m\u001b[1;33m\u001b[0m\u001b[0m\n\u001b[0;32m      4\u001b[0m     \u001b[1;31m#print(np.dot(theta,x))\u001b[0m\u001b[1;33m\u001b[0m\u001b[1;33m\u001b[0m\u001b[1;33m\u001b[0m\u001b[0m\n\u001b[1;32m----> 5\u001b[1;33m     \u001b[0mout\u001b[0m\u001b[1;33m=\u001b[0m\u001b[1;33m-\u001b[0m\u001b[0mnp\u001b[0m\u001b[1;33m.\u001b[0m\u001b[0mdot\u001b[0m\u001b[1;33m(\u001b[0m\u001b[0mvec_transpose\u001b[0m\u001b[1;33m(\u001b[0m\u001b[0mey\u001b[0m\u001b[1;33m-\u001b[0m\u001b[0msoftmax\u001b[0m\u001b[1;33m(\u001b[0m\u001b[0mnp\u001b[0m\u001b[1;33m.\u001b[0m\u001b[0mdot\u001b[0m\u001b[1;33m(\u001b[0m\u001b[0mtheta\u001b[0m\u001b[1;33m[\u001b[0m\u001b[1;36m0\u001b[0m\u001b[1;33m]\u001b[0m\u001b[1;33m,\u001b[0m\u001b[0mx\u001b[0m\u001b[1;33m)\u001b[0m\u001b[1;33m)\u001b[0m\u001b[1;33m)\u001b[0m\u001b[1;33m,\u001b[0m\u001b[0mnp\u001b[0m\u001b[1;33m.\u001b[0m\u001b[0marray\u001b[0m\u001b[1;33m(\u001b[0m\u001b[1;33m[\u001b[0m\u001b[0mx\u001b[0m\u001b[1;33m]\u001b[0m\u001b[1;33m)\u001b[0m\u001b[1;33m)\u001b[0m\u001b[1;33m\u001b[0m\u001b[1;33m\u001b[0m\u001b[0m\n\u001b[0m\u001b[0;32m      6\u001b[0m     \u001b[1;32mreturn\u001b[0m \u001b[0mout\u001b[0m\u001b[1;33m\u001b[0m\u001b[1;33m\u001b[0m\u001b[0m\n",
      "\u001b[1;32m<__array_function__ internals>\u001b[0m in \u001b[0;36mdot\u001b[1;34m(*args, **kwargs)\u001b[0m\n",
      "\u001b[1;31mKeyboardInterrupt\u001b[0m: "
     ]
    }
   ],
   "source": [
    "model.adjust_rate(0.1)\n",
    "train(50)"
   ]
  },
  {
   "cell_type": "code",
   "execution_count": 181,
   "metadata": {},
   "outputs": [
    {
     "data": {
      "image/png": "[encoded data removed]",
      "text/plain": [
       "<Figure size 576x360 with 2 Axes>"
      ]
     },
     "metadata": {
      "needs_background": "light"
     },
     "output_type": "display_data"
    }
   ],
   "source": [
    "draw()"
   ]
  },
  {
   "cell_type": "markdown",
   "metadata": {},
   "source": [
    "## Two layers"
   ]
  },
  {
   "cell_type": "code",
   "execution_count": 182,
   "metadata": {},
   "outputs": [],
   "source": [
    "#theta_0: C, theta_1: b2, theta_2: W, theta_3: b1"
   ]
  },
  {
   "cell_type": "code",
   "execution_count": 144,
   "metadata": {},
   "outputs": [],
   "source": [
    "def sigmoid(x):\n",
    "    y=np.array(x)\n",
    "    y[y<0]=0\n",
    "    return y"
   ]
  },
  {
   "cell_type": "code",
   "execution_count": 145,
   "metadata": {},
   "outputs": [],
   "source": [
    "def sigmoid_dev(x):\n",
    "    y=np.array(x)\n",
    "    y[y>0]=1\n",
    "    y[y<=0]=0\n",
    "    return y"
   ]
  },
  {
   "cell_type": "code",
   "execution_count": 112,
   "metadata": {},
   "outputs": [],
   "source": [
    "def Z(x,theta):\n",
    "    return np.dot(theta[2],x)+theta[3]"
   ]
  },
  {
   "cell_type": "code",
   "execution_count": 113,
   "metadata": {},
   "outputs": [],
   "source": [
    "def H(x,theta):\n",
    "    return sigmoid(Z(x,theta))"
   ]
  },
  {
   "cell_type": "code",
   "execution_count": 114,
   "metadata": {},
   "outputs": [],
   "source": [
    "def U(x,theta):\n",
    "    return np.dot(theta[0],H(x,theta))+theta[1]"
   ]
  },
  {
   "cell_type": "code",
   "execution_count": 115,
   "metadata": {},
   "outputs": [],
   "source": [
    "def grad_C(x,y,theta,output_size):\n",
    "    ey=np.zeros(output_size)\n",
    "    ey[int(y)]=1\n",
    "    #print(np.dot(theta,x))\n",
    "    out=-np.dot(vec_transpose(ey-softmax(U(x,theta))),np.array([H(x,theta)]))\n",
    "    return out"
   ]
  },
  {
   "cell_type": "code",
   "execution_count": 116,
   "metadata": {},
   "outputs": [],
   "source": [
    "def grad_b2(x,y,theta,output_size):\n",
    "    ey=np.zeros(output_size)\n",
    "    ey[int(y)]=1\n",
    "    #print(np.dot(theta,x))\n",
    "    out=-(ey-softmax(U(x,theta)))\n",
    "    return out"
   ]
  },
  {
   "cell_type": "code",
   "execution_count": 117,
   "metadata": {},
   "outputs": [],
   "source": [
    "def grad_b1(x,y,theta,output_size):\n",
    "    ey=np.zeros(output_size)\n",
    "    ey[int(y)]=1\n",
    "    #print(np.dot(theta,x))\n",
    "    delta=-np.dot(theta[0].T,(ey-softmax(U(x,theta))))\n",
    "    out=delta*sigmoid_dev(Z(x,theta))\n",
    "    return out"
   ]
  },
  {
   "cell_type": "code",
   "execution_count": 118,
   "metadata": {},
   "outputs": [],
   "source": [
    "def grad_W(x,y,theta,output_size):\n",
    "    ey=np.zeros(output_size)\n",
    "    ey[int(y)]=1\n",
    "    #print(np.dot(theta,x))\n",
    "    delta=-np.dot(theta[0].T,(ey-softmax(U(x,theta))))\n",
    "    out=delta*sigmoid_dev(Z(x,theta))\n",
    "    out=np.dot(vec_transpose(out),np.array([x]))\n",
    "    return out"
   ]
  },
  {
   "cell_type": "code",
   "execution_count": 146,
   "metadata": {},
   "outputs": [],
   "source": [
    "def f_theta(x,theta):\n",
    "    return softmax(U(x,theta))"
   ]
  },
  {
   "cell_type": "code",
   "execution_count": 154,
   "metadata": {},
   "outputs": [],
   "source": [
    "dH=4\n",
    "W0=np.zeros((dH,num_inputs))\n",
    "for i in range(dH):\n",
    "    W0[i][i]=0.1\n",
    "\n",
    "b10=np.zeros(dH)\n",
    "\n",
    "\n",
    "\n",
    "C0=np.zeros((num_outputs,dH))\n",
    "for i in range(dH):\n",
    "    C0[i][i]=0.1\n",
    "\n",
    "b20=np.zeros(num_outputs)\n",
    "\n",
    "\n",
    "\n",
    "theta_0=[C0,b20,W0,b10]\n",
    "grad_f=(grad_C,grad_b2,grad_W,grad_b1)"
   ]
  },
  {
   "cell_type": "code",
   "execution_count": 155,
   "metadata": {},
   "outputs": [],
   "source": [
    "model=NN(input_size=num_inputs,output_size=num_outputs,batch_size=2000,data_x=X,data_y=Y,loss_function=cross_entropy_error,grad=grad_f,init=theta_0,f=f_theta)"
   ]
  },
  {
   "cell_type": "code",
   "execution_count": 156,
   "metadata": {
    "scrolled": true
   },
   "outputs": [
    {
     "name": "stdout",
     "output_type": "stream",
     "text": [
      "Loop:0,Loss:2.3012179072439856\n"
     ]
    }
   ],
   "source": [
    "\n",
    "loss=[]\n",
    "accur=[]\n",
    "\n",
    "model.adjust_rate(1)\n",
    "res=train(5)\n"
   ]
  },
  {
   "cell_type": "code",
   "execution_count": 157,
   "metadata": {},
   "outputs": [
    {
     "name": "stdout",
     "output_type": "stream",
     "text": [
      "Loop:0,Loss:2.3012283714879196\n"
     ]
    },
    {
     "ename": "KeyboardInterrupt",
     "evalue": "",
     "output_type": "error",
     "traceback": [
      "\u001b[1;31m---------------------------------------------------------------------------\u001b[0m",
      "\u001b[1;31mKeyboardInterrupt\u001b[0m                         Traceback (most recent call last)",
      "\u001b[1;32m<ipython-input-157-40ad77a07135>\u001b[0m in \u001b[0;36m<module>\u001b[1;34m\u001b[0m\n\u001b[1;32m----> 1\u001b[1;33m \u001b[0mres\u001b[0m\u001b[1;33m=\u001b[0m\u001b[0mtrain\u001b[0m\u001b[1;33m(\u001b[0m\u001b[1;36m6\u001b[0m\u001b[1;33m)\u001b[0m\u001b[1;33m\u001b[0m\u001b[1;33m\u001b[0m\u001b[0m\n\u001b[0m",
      "\u001b[1;32m<ipython-input-71-ad8570dac2b0>\u001b[0m in \u001b[0;36mtrain\u001b[1;34m(N)\u001b[0m\n\u001b[0;32m      3\u001b[0m \u001b[1;33m\u001b[0m\u001b[0m\n\u001b[0;32m      4\u001b[0m     \u001b[1;32mfor\u001b[0m \u001b[0mi\u001b[0m \u001b[1;32min\u001b[0m \u001b[0mrange\u001b[0m\u001b[1;33m(\u001b[0m\u001b[0mN\u001b[0m\u001b[1;33m)\u001b[0m\u001b[1;33m:\u001b[0m\u001b[1;33m\u001b[0m\u001b[1;33m\u001b[0m\u001b[0m\n\u001b[1;32m----> 5\u001b[1;33m         \u001b[0mmodel\u001b[0m\u001b[1;33m.\u001b[0m\u001b[0mforward\u001b[0m\u001b[1;33m(\u001b[0m\u001b[1;33m)\u001b[0m\u001b[1;33m\u001b[0m\u001b[1;33m\u001b[0m\u001b[0m\n\u001b[0m\u001b[0;32m      6\u001b[0m \u001b[1;33m\u001b[0m\u001b[0m\n\u001b[0;32m      7\u001b[0m         \u001b[1;32mif\u001b[0m \u001b[0mi\u001b[0m\u001b[1;33m%\u001b[0m\u001b[1;36m5\u001b[0m\u001b[1;33m==\u001b[0m\u001b[1;36m0\u001b[0m\u001b[1;33m:\u001b[0m\u001b[1;33m\u001b[0m\u001b[1;33m\u001b[0m\u001b[0m\n",
      "\u001b[1;32m<ipython-input-143-22bb33075171>\u001b[0m in \u001b[0;36mforward\u001b[1;34m(self)\u001b[0m\n\u001b[0;32m     48\u001b[0m                 \u001b[1;32mfor\u001b[0m \u001b[0mk\u001b[0m \u001b[1;32min\u001b[0m \u001b[0mrange\u001b[0m\u001b[1;33m(\u001b[0m\u001b[0mtheta_num\u001b[0m\u001b[1;33m)\u001b[0m\u001b[1;33m:\u001b[0m\u001b[1;33m\u001b[0m\u001b[1;33m\u001b[0m\u001b[0m\n\u001b[0;32m     49\u001b[0m                     \u001b[0moutsize\u001b[0m\u001b[1;33m=\u001b[0m\u001b[0mself\u001b[0m\u001b[1;33m.\u001b[0m\u001b[0moutsize\u001b[0m\u001b[1;33m\u001b[0m\u001b[1;33m\u001b[0m\u001b[0m\n\u001b[1;32m---> 50\u001b[1;33m                     \u001b[0mgrad_theta\u001b[0m\u001b[1;33m=\u001b[0m\u001b[0mself\u001b[0m\u001b[1;33m.\u001b[0m\u001b[0mgrad\u001b[0m\u001b[1;33m[\u001b[0m\u001b[0mk\u001b[0m\u001b[1;33m]\u001b[0m\u001b[1;33m(\u001b[0m\u001b[0mx\u001b[0m\u001b[1;33m,\u001b[0m\u001b[0my\u001b[0m\u001b[1;33m,\u001b[0m\u001b[0mself\u001b[0m\u001b[1;33m.\u001b[0m\u001b[0mtheta\u001b[0m\u001b[1;33m,\u001b[0m\u001b[0moutsize\u001b[0m\u001b[1;33m)\u001b[0m\u001b[1;33m\u001b[0m\u001b[1;33m\u001b[0m\u001b[0m\n\u001b[0m\u001b[0;32m     51\u001b[0m                     \u001b[0mgrad_list\u001b[0m\u001b[1;33m[\u001b[0m\u001b[0mk\u001b[0m\u001b[1;33m]\u001b[0m\u001b[1;33m.\u001b[0m\u001b[0mappend\u001b[0m\u001b[1;33m(\u001b[0m\u001b[0mgrad_theta\u001b[0m\u001b[1;33m)\u001b[0m\u001b[1;33m\u001b[0m\u001b[1;33m\u001b[0m\u001b[0m\n\u001b[0;32m     52\u001b[0m \u001b[1;33m\u001b[0m\u001b[0m\n",
      "\u001b[1;32m<ipython-input-118-46281b748abf>\u001b[0m in \u001b[0;36mgrad_W\u001b[1;34m(x, y, theta, output_size)\u001b[0m\n\u001b[0;32m      5\u001b[0m     \u001b[0mdelta\u001b[0m\u001b[1;33m=\u001b[0m\u001b[1;33m-\u001b[0m\u001b[0mnp\u001b[0m\u001b[1;33m.\u001b[0m\u001b[0mdot\u001b[0m\u001b[1;33m(\u001b[0m\u001b[0mtheta\u001b[0m\u001b[1;33m[\u001b[0m\u001b[1;36m0\u001b[0m\u001b[1;33m]\u001b[0m\u001b[1;33m.\u001b[0m\u001b[0mT\u001b[0m\u001b[1;33m,\u001b[0m\u001b[1;33m(\u001b[0m\u001b[0mey\u001b[0m\u001b[1;33m-\u001b[0m\u001b[0msoftmax\u001b[0m\u001b[1;33m(\u001b[0m\u001b[0mU\u001b[0m\u001b[1;33m(\u001b[0m\u001b[0mx\u001b[0m\u001b[1;33m,\u001b[0m\u001b[0mtheta\u001b[0m\u001b[1;33m)\u001b[0m\u001b[1;33m)\u001b[0m\u001b[1;33m)\u001b[0m\u001b[1;33m)\u001b[0m\u001b[1;33m\u001b[0m\u001b[1;33m\u001b[0m\u001b[0m\n\u001b[0;32m      6\u001b[0m     \u001b[0mout\u001b[0m\u001b[1;33m=\u001b[0m\u001b[0mdelta\u001b[0m\u001b[1;33m*\u001b[0m\u001b[0msigmoid_dev\u001b[0m\u001b[1;33m(\u001b[0m\u001b[0mZ\u001b[0m\u001b[1;33m(\u001b[0m\u001b[0mx\u001b[0m\u001b[1;33m,\u001b[0m\u001b[0mtheta\u001b[0m\u001b[1;33m)\u001b[0m\u001b[1;33m)\u001b[0m\u001b[1;33m\u001b[0m\u001b[1;33m\u001b[0m\u001b[0m\n\u001b[1;32m----> 7\u001b[1;33m     \u001b[0mout\u001b[0m\u001b[1;33m=\u001b[0m\u001b[0mnp\u001b[0m\u001b[1;33m.\u001b[0m\u001b[0mdot\u001b[0m\u001b[1;33m(\u001b[0m\u001b[0mvec_transpose\u001b[0m\u001b[1;33m(\u001b[0m\u001b[0mout\u001b[0m\u001b[1;33m)\u001b[0m\u001b[1;33m,\u001b[0m\u001b[0mnp\u001b[0m\u001b[1;33m.\u001b[0m\u001b[0marray\u001b[0m\u001b[1;33m(\u001b[0m\u001b[1;33m[\u001b[0m\u001b[0mx\u001b[0m\u001b[1;33m]\u001b[0m\u001b[1;33m)\u001b[0m\u001b[1;33m)\u001b[0m\u001b[1;33m\u001b[0m\u001b[1;33m\u001b[0m\u001b[0m\n\u001b[0m\u001b[0;32m      8\u001b[0m     \u001b[1;32mreturn\u001b[0m \u001b[0mout\u001b[0m\u001b[1;33m\u001b[0m\u001b[1;33m\u001b[0m\u001b[0m\n",
      "\u001b[1;32m<__array_function__ internals>\u001b[0m in \u001b[0;36mdot\u001b[1;34m(*args, **kwargs)\u001b[0m\n",
      "\u001b[1;31mKeyboardInterrupt\u001b[0m: "
     ]
    }
   ],
   "source": [
    "res=train(6)"
   ]
  },
  {
   "cell_type": "code",
   "execution_count": 11,
   "metadata": {},
   "outputs": [],
   "source": [
    "eval2=pd.read_csv(\"Q1evaluation2.csv\")\n",
    "loss=eval2[\"Loss\"].values\n",
    "accur=eval2[\"Accuracy\"].values"
   ]
  },
  {
   "cell_type": "code",
   "execution_count": 12,
   "metadata": {},
   "outputs": [
    {
     "data": {
      "image/png": "[encoded data removed]",
      "text/plain": [
       "<Figure size 576x360 with 2 Axes>"
      ]
     },
     "metadata": {
      "needs_background": "light"
     },
     "output_type": "display_data"
    }
   ],
   "source": [
    "draw()"
   ]
  },
  {
   "cell_type": "code",
   "execution_count": 39,
   "metadata": {},
   "outputs": [
    {
     "data": {
      "text/plain": [
       "array([ 1,  2,  3, -1])"
      ]
     },
     "execution_count": 39,
     "metadata": {},
     "output_type": "execute_result"
    }
   ],
   "source": [
    "x"
   ]
  },
  {
   "cell_type": "code",
   "execution_count": 1,
   "metadata": {},
   "outputs": [],
   "source": [
    "def f(x):\n",
    "    x+=1\n",
    "    return x"
   ]
  },
  {
   "cell_type": "code",
   "execution_count": 2,
   "metadata": {},
   "outputs": [
    {
     "data": {
      "text/plain": [
       "3"
      ]
     },
     "execution_count": 2,
     "metadata": {},
     "output_type": "execute_result"
    }
   ],
   "source": [
    "a=2\n",
    "f(a)"
   ]
  },
  {
   "cell_type": "code",
   "execution_count": 3,
   "metadata": {},
   "outputs": [
    {
     "data": {
      "text/plain": [
       "2"
      ]
     },
     "execution_count": 3,
     "metadata": {},
     "output_type": "execute_result"
    }
   ],
   "source": [
    "a"
   ]
  },
  {
   "cell_type": "code",
   "execution_count": 6,
   "metadata": {},
   "outputs": [
    {
     "data": {
      "text/plain": [
       "(tensor(4.), tensor(3))"
      ]
     },
     "execution_count": 6,
     "metadata": {},
     "output_type": "execute_result"
    }
   ],
   "source": [
    "t=torch.FloatTensor([1,2,3,4])\n",
    "t.max(0)"
   ]
  },
  {
   "cell_type": "code",
   "execution_count": null,
   "metadata": {},
   "outputs": [],
   "source": []
  }
 ],
 "metadata": {
  "kernelspec": {
   "display_name": "Python 3",
   "language": "python",
   "name": "python3"
  },
  "language_info": {
   "codemirror_mode": {
    "name": "ipython",
    "version": 3
   },
   "file_extension": ".py",
   "mimetype": "text/x-python",
   "name": "python",
   "nbconvert_exporter": "python",
   "pygments_lexer": "ipython3",
   "version": "3.6.8"
  },
  "latex_envs": {
   "LaTeX_envs_menu_present": true,
   "autoclose": false,
   "autocomplete": true,
   "bibliofile": "biblio.bib",
   "cite_by": "apalike",
   "current_citInitial": 1,
   "eqLabelWithNumbers": true,
   "eqNumInitial": 1,
   "hotkeys": {
    "equation": "Ctrl-E",
    "itemize": "Ctrl-I"
   },
   "labels_anchors": false,
   "latex_user_defs": false,
   "report_style_numbering": false,
   "user_envs_cfg": false
  }
 },
 "nbformat": 4,
 "nbformat_minor": 4
}
