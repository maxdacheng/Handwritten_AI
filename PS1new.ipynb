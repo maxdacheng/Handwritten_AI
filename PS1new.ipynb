{
 "cells": [
  {
   "cell_type": "code",
   "execution_count": 2,
   "metadata": {},
   "outputs": [],
   "source": [
    "import numpy as np\n",
    "import h5py\n",
    "import time\n",
    "import copy\n",
    "from random import randint\n",
    "import torch\n",
    "import pandas as pd\n",
    "import matplotlib.pyplot as plt"
   ]
  },
  {
   "cell_type": "code",
   "execution_count": 3,
   "metadata": {},
   "outputs": [],
   "source": [
    "class NN():\n",
    "    def __init__(self,loss_function,grad,init,f):\n",
    "        self.x=0\n",
    "        self.y=0\n",
    "        self.predy=0\n",
    "        self.loss=0.0\n",
    "        self.lossf=loss_function\n",
    "        self.theta=init\n",
    "        self.alpha=0.1\n",
    "        self.grad=grad\n",
    "        self.f=f\n",
    "        self.tmp_grad=[0]*len(init)\n",
    "        self.count=0\n",
    "        \n",
    "    def adjust_rate(self,alpha):\n",
    "        self.alpha=alpha\n",
    "        \n",
    "    def backward(self,data_x,data_y):\n",
    "        self.x=data_x\n",
    "        self.y=data_y\n",
    "        theta_num=len(self.theta)\n",
    "        for k in range(theta_num):\n",
    "            grad_result=self.grad[k](self.x,self.y,self.predy,self.theta)\n",
    "           # print(grad_result.shape)\n",
    "            if self.count==0:\n",
    "                self.tmp_grad[k]=grad_result\n",
    "            else:\n",
    "                self.tmp_grad[k]=self.tmp_grad[k]*self.count/(self.count+1)+grad_result/(self.count+1)\n",
    "        self.count+=1\n",
    "        \n",
    "    def step(self):\n",
    "        theta_num=len(self.theta)\n",
    "        for k in range(theta_num):\n",
    "            self.theta[k]-=self.alpha*self.tmp_grad[k]\n",
    "        self.count=0\n",
    "        self.tmp_grad=[0]*theta_num\n",
    "        \n",
    "                   \n",
    "    def forward(self,data_x):\n",
    "        y=self.f(data_x,self.theta)\n",
    "        self.predy=y\n",
    "        return y\n",
    "    \n",
    "    def get_loss(self):\n",
    "        \n",
    "        loss=self.lossf(self.predy,self.y)\n",
    "        return loss\n",
    "    \n",
    "    def save(self):\n",
    "        return self.theta"
   ]
  },
  {
   "cell_type": "code",
   "execution_count": 77,
   "metadata": {},
   "outputs": [],
   "source": [
    "def draw(loss,accur):\n",
    "    line_x=[k for k in range(len(loss))]\n",
    "    fig, ax1 = plt.subplots(figsize=(8,5))\n",
    "\n",
    "    ax1.set_xlabel('Epoch')\n",
    "    ax1.set_ylabel('Loss')\n",
    "    ax1.plot(line_x, loss, 'b-')\n",
    "    ax1.tick_params(axis='y')\n",
    "\n",
    "    ax2 = ax1.twinx()  # instantiate a second axes that shares the same x-axis\n",
    "\n",
    "    ax2.set_ylabel('Accuracy')  # we already handled the x-label with ax1\n",
    "    line_x=[k for k in range(len(accur))]\n",
    "    ax2.plot(line_x, accur, \"r-\")\n",
    "    ax2.tick_params(axis='y')\n",
    "\n",
    "    fig.tight_layout()  # otherwise the right y-label is slightly clipped\n",
    "    plt.show()"
   ]
  },
  {
   "cell_type": "code",
   "execution_count": 4,
   "metadata": {},
   "outputs": [],
   "source": [
    "MNIST_data = h5py.File('MNISTdata.hdf5', 'r')\n",
    "x_train = np.float32(MNIST_data['x_train'][:] )\n",
    "y_train = np.int32(np.array(MNIST_data['y_train'][:,0]))\n",
    "x_test = np.float32( MNIST_data['x_test'][:] )\n",
    "y_test = np.int32( np.array( MNIST_data['y_test'][:,0] ) )\n",
    "MNIST_data.close()"
   ]
  },
  {
   "cell_type": "markdown",
   "metadata": {},
   "source": [
    "## Logistics"
   ]
  },
  {
   "cell_type": "code",
   "execution_count": 117,
   "metadata": {},
   "outputs": [],
   "source": [
    "INPUT_SIZE=28*28\n",
    "BATCH_SIZE=100\n",
    "OUTPUT_SIZE=10\n",
    "SAMPLE_SIZE=int(x_train.size/(INPUT_SIZE))"
   ]
  },
  {
   "cell_type": "code",
   "execution_count": 6,
   "metadata": {},
   "outputs": [],
   "source": [
    "def normalize(x):\n",
    "    x=np.array(x)\n",
    "    mean=np.mean(x)\n",
    "    std=np.std(x)\n",
    "    x=(x-mean)/std\n",
    "    return x\n",
    "\n",
    "def shuffle(X,Y):\n",
    "    n_random = np.random.shuffle([i for i in range(Y.size)])\n",
    "    new_x=X[n_random][:]\n",
    "    new_y=Y[n_random]\n",
    "\n",
    "    return new_x[0],new_y[0]"
   ]
  },
  {
   "cell_type": "code",
   "execution_count": 7,
   "metadata": {},
   "outputs": [],
   "source": [
    "X=normalize(x_train)\n",
    "Y=np.array(y_train)\n",
    "X_test=normalize(x_test)"
   ]
  },
  {
   "cell_type": "code",
   "execution_count": 10,
   "metadata": {},
   "outputs": [
    {
     "data": {
      "text/plain": [
       "(60000, 784)"
      ]
     },
     "execution_count": 10,
     "metadata": {},
     "output_type": "execute_result"
    }
   ],
   "source": [
    "X.shape"
   ]
  },
  {
   "cell_type": "code",
   "execution_count": 61,
   "metadata": {},
   "outputs": [],
   "source": [
    "def cross_entropy_error(x,y):\n",
    "    return -np.log(x[int(y)])"
   ]
  },
  {
   "cell_type": "code",
   "execution_count": 62,
   "metadata": {},
   "outputs": [],
   "source": [
    "def softmax(z):\n",
    "    ZZ = np.exp(z)/np.sum(np.exp(z))\n",
    "    return ZZ"
   ]
  },
  {
   "cell_type": "code",
   "execution_count": 63,
   "metadata": {},
   "outputs": [],
   "source": [
    "def f_theta(x,theta):\n",
    "    xx=np.dot(theta[0],x)\n",
    "    return softmax(xx)"
   ]
  },
  {
   "cell_type": "code",
   "execution_count": 64,
   "metadata": {},
   "outputs": [],
   "source": [
    "def vec_transpose(x):\n",
    "    y=np.array([x])\n",
    "    return y.T"
   ]
  },
  {
   "cell_type": "code",
   "execution_count": 67,
   "metadata": {},
   "outputs": [],
   "source": [
    "def grad_f(x,y,predy,theta):\n",
    "    ey=np.zeros(OUTPUT_SIZE)\n",
    "    ey[int(y)]=1\n",
    "    out=-np.dot(vec_transpose(ey-predy),np.array([x]))\n",
    "    return out"
   ]
  },
  {
   "cell_type": "code",
   "execution_count": 68,
   "metadata": {},
   "outputs": [],
   "source": [
    "theta=np.zeros((OUTPUT_SIZE,INPUT_SIZE))\n",
    "theta_0=[theta]\n",
    "grad_func=[grad_f]"
   ]
  },
  {
   "cell_type": "code",
   "execution_count": 69,
   "metadata": {},
   "outputs": [],
   "source": [
    "model=NN(loss_function=cross_entropy_error,grad=grad_func,f=f_theta,init=theta_0)"
   ]
  },
  {
   "cell_type": "code",
   "execution_count": 70,
   "metadata": {},
   "outputs": [],
   "source": [
    "loss_list=[]\n",
    "accur_list=[]"
   ]
  },
  {
   "cell_type": "code",
   "execution_count": 147,
   "metadata": {},
   "outputs": [],
   "source": [
    "def train_test(N):\n",
    "    for epoch in range(N):\n",
    "        data_x,data_y=shuffle(X,Y)\n",
    "        pos=0\n",
    "        lo=0.0\n",
    "       \n",
    "        batch_loss=[]\n",
    "       \n",
    "        while pos+BATCH_SIZE<=SAMPLE_SIZE:\n",
    "            #print((time.clock()-t1)*1000)\n",
    "            x=data_x[pos:pos+BATCH_SIZE][:]\n",
    "            y=data_y[pos:pos+BATCH_SIZE]\n",
    "            for i in range(BATCH_SIZE): \n",
    "                t1=time.clock()\n",
    "                predy=model.forward(x[i][:])\n",
    "                print(\"Forward:\")\n",
    "                print((time.clock()-t1)*1000)\n",
    "                model.backward(x[i][:],y[i])\n",
    "                print(\"Backward:\")\n",
    "                print((time.clock()-t1)*1000)\n",
    "            print(\"Step:\")    \n",
    "            model.step()\n",
    "            print((time.clock()-t1)*1000)\n",
    "            loss=model.get_loss()\n",
    "            #print(loss)\n",
    "            batch_loss.append(loss)\n",
    "            pos+=BATCH_SIZE\n",
    "        \n",
    "        epoch_loss=np.mean(batch_loss)\n",
    "\n",
    "        #if epoch%2==0:\n",
    "        print(\"Epoch:{},Loss:{}\".format(epoch,epoch_loss))\n",
    "        loss_list.append(epoch_loss)\n",
    "        accur=test()\n",
    "        accur_list.append(accur)\n",
    "        \n",
    "        \n",
    "def train(N):\n",
    "    for epoch in range(N):\n",
    "        data_x,data_y=shuffle(X,Y)\n",
    "        pos=0\n",
    "        lo=0.0\n",
    "       \n",
    "        batch_loss=[]\n",
    "       \n",
    "        while pos+BATCH_SIZE<=SAMPLE_SIZE:\n",
    "            #print((time.clock()-t1)*1000)\n",
    "            x=data_x[pos:pos+BATCH_SIZE][:]\n",
    "            y=data_y[pos:pos+BATCH_SIZE]\n",
    "            for i in range(BATCH_SIZE): \n",
    "                t1=time.clock()\n",
    "                predy=model.forward(x[i][:])\n",
    "                #print(\"Forward:\")\n",
    "                #print((time.clock()-t1)*1000)\n",
    "                model.backward(x[i][:],y[i])\n",
    "                #print(\"Backward:\")\n",
    "                #print((time.clock()-t1)*1000)\n",
    "            #print(\"Step:\")    \n",
    "            model.step()\n",
    "            #print((time.clock()-t1)*1000)\n",
    "            loss=model.get_loss()\n",
    "            #print(loss)\n",
    "            batch_loss.append(loss)\n",
    "            pos+=BATCH_SIZE\n",
    "        \n",
    "        epoch_loss=np.mean(batch_loss)\n",
    "\n",
    "        #if epoch%2==0:\n",
    "        print(\"Epoch:{},Loss:{}\".format(epoch,epoch_loss))\n",
    "        loss_list.append(epoch_loss)\n",
    "        accur=test()\n",
    "        accur_list.append(accur)\n",
    "\n",
    "      \n",
    "\n",
    "    \n",
    "def test():\n",
    "    total_correct=0\n",
    "    for i in range(y_test.size):\n",
    "        pred_y=model.forward(X_test[i][:])\n",
    "        prediction = np.argmax(pred_y)\n",
    "        real=y_test[i]\n",
    "        if(prediction==real):\n",
    "            total_correct+=1\n",
    "\n",
    "    return total_correct/y_test.size"
   ]
  },
  {
   "cell_type": "code",
   "execution_count": 72,
   "metadata": {},
   "outputs": [
    {
     "name": "stdout",
     "output_type": "stream",
     "text": [
      "Epoch:0,Loss:0.4527562285470066\n",
      "Epoch:1,Loss:0.2713402591077585\n",
      "Epoch:2,Loss:0.2453604109327234\n",
      "Epoch:3,Loss:0.23189340879397094\n",
      "Epoch:4,Loss:0.22314652519501776\n"
     ]
    }
   ],
   "source": [
    "model.adjust_rate(0.01)\n",
    "train(5)"
   ]
  },
  {
   "cell_type": "code",
   "execution_count": 73,
   "metadata": {},
   "outputs": [
    {
     "name": "stdout",
     "output_type": "stream",
     "text": [
      "Epoch:0,Loss:0.2177571082559837\n",
      "Epoch:1,Loss:0.21507591449907149\n",
      "Epoch:2,Loss:0.21260483917022152\n",
      "Epoch:3,Loss:0.21039006859526255\n",
      "Epoch:4,Loss:0.20839400692957072\n",
      "Epoch:5,Loss:0.20657927296884598\n",
      "Epoch:6,Loss:0.20491559726755365\n",
      "Epoch:7,Loss:0.20337947557794572\n",
      "Epoch:8,Loss:0.20195256224237432\n",
      "Epoch:9,Loss:0.2006202989552132\n"
     ]
    }
   ],
   "source": [
    "model.adjust_rate(0.005)\n",
    "train(10)"
   ]
  },
  {
   "cell_type": "code",
   "execution_count": 78,
   "metadata": {},
   "outputs": [
    {
     "data": {
      "image/png": "[encoded data removed]",
      "text/plain": [
       "<Figure size 576x360 with 2 Axes>"
      ]
     },
     "metadata": {
      "needs_background": "light"
     },
     "output_type": "display_data"
    }
   ],
   "source": [
    "draw(loss_list,accur_list)"
   ]
  },
  {
   "cell_type": "markdown",
   "metadata": {},
   "source": [
    "## One hidden, Fully-connected"
   ]
  },
  {
   "cell_type": "code",
   "execution_count": 83,
   "metadata": {},
   "outputs": [],
   "source": [
    "#theta[0]: C; theta[1]: W\n",
    "HIDDEN_UNIT=100"
   ]
  },
  {
   "cell_type": "code",
   "execution_count": 99,
   "metadata": {},
   "outputs": [],
   "source": [
    "def sigmoid(x):\n",
    "    y=np.array(x)\n",
    "    y[y<0]=0\n",
    "    return y\n",
    "\n",
    "def sigmoid_dev(x):\n",
    "    y=np.array(x)\n",
    "    y[y>0]=1\n",
    "    y[y<=0]=0\n",
    "    return y\n",
    "\n",
    "def Z(x,theta):\n",
    "    return np.dot(theta[1],x)\n",
    "\n",
    "def H(x,theta):\n",
    "    return sigmoid(Z(x,theta))\n",
    "\n",
    "def U(x,theta):\n",
    "    return np.dot(theta[0],H(x,theta))\n",
    "\n",
    "def f_theta(x,theta):\n",
    "    x=np.dot(theta[1],x)\n",
    "    x=sigmoid(x)\n",
    "    x=np.dot(theta[0],x)\n",
    "    return softmax(x)"
   ]
  },
  {
   "cell_type": "code",
   "execution_count": 142,
   "metadata": {},
   "outputs": [],
   "source": [
    "def grad_C(x,y,predy,theta):\n",
    "    t=time.clock()\n",
    "    ey=np.zeros(OUTPUT_SIZE)\n",
    "    ey[int(y)]=1\n",
    "    out=-np.dot(vec_transpose(ey-predy),np.array([H(x,theta)]))\n",
    "    return out"
   ]
  },
  {
   "cell_type": "code",
   "execution_count": 143,
   "metadata": {},
   "outputs": [],
   "source": [
    "def grad_W(x,y,predy,theta):\n",
    "    t=time.clock()\n",
    "    ey=np.zeros(OUTPUT_SIZE)\n",
    "    ey[int(y)]=1\n",
    "    delta=-np.dot(theta[0].T,(ey-predy))\n",
    "    out=delta*sigmoid_dev(Z(x,theta))\n",
    "    out=np.dot(vec_transpose(out),np.array([x]))\n",
    "    return out"
   ]
  },
  {
   "cell_type": "code",
   "execution_count": 148,
   "metadata": {},
   "outputs": [],
   "source": [
    "C=np.random.randn(OUTPUT_SIZE,HIDDEN_UNIT)/np.sqrt(HIDDEN_UNIT)\n",
    "W=np.random.randn(HIDDEN_UNIT,INPUT_SIZE)/np.sqrt(INPUT_SIZE)\n",
    "theta_0=[C,W]\n",
    "grad_func=[grad_C,grad_W]"
   ]
  },
  {
   "cell_type": "code",
   "execution_count": 149,
   "metadata": {},
   "outputs": [],
   "source": [
    "model=NN(loss_function=cross_entropy_error,grad=grad_func,f=f_theta,init=theta_0)\n",
    "loss_list=[]\n",
    "accur_list=[]"
   ]
  },
  {
   "cell_type": "code",
   "execution_count": 150,
   "metadata": {},
   "outputs": [
    {
     "name": "stdout",
     "output_type": "stream",
     "text": [
      "Epoch:0,Loss:0.5532323872740064\n",
      "Epoch:1,Loss:0.24472951169920748\n",
      "Epoch:2,Loss:0.19943388610021504\n",
      "Epoch:3,Loss:0.1727719373079527\n",
      "Epoch:4,Loss:0.15377154373475457\n"
     ]
    }
   ],
   "source": [
    "model.adjust_rate(0.01)\n",
    "train(5)"
   ]
  },
  {
   "cell_type": "code",
   "execution_count": 152,
   "metadata": {},
   "outputs": [
    {
     "name": "stdout",
     "output_type": "stream",
     "text": [
      "Epoch:0,Loss:0.14304935216386142\n",
      "Epoch:1,Loss:0.13701481190687764\n",
      "Epoch:2,Loss:0.1312813762994616\n",
      "Epoch:3,Loss:0.12608954441502726\n",
      "Epoch:4,Loss:0.12146676285627483\n"
     ]
    }
   ],
   "source": [
    "model.adjust_rate(0.005)\n",
    "train(5)"
   ]
  },
  {
   "cell_type": "code",
   "execution_count": 154,
   "metadata": {},
   "outputs": [
    {
     "name": "stdout",
     "output_type": "stream",
     "text": [
      "Epoch:0,Loss:0.11776091103993239\n",
      "Epoch:1,Loss:0.11741493767195048\n",
      "Epoch:2,Loss:0.11668546029978505\n",
      "Epoch:3,Loss:0.115932857183715\n",
      "Epoch:4,Loss:0.11516860239278133\n",
      "Epoch:5,Loss:0.11441308061328445\n",
      "Epoch:6,Loss:0.1136587477296009\n",
      "Epoch:7,Loss:0.11291851685062618\n",
      "Epoch:8,Loss:0.11218857097829954\n",
      "Epoch:9,Loss:0.1114631642545162\n"
     ]
    }
   ],
   "source": [
    "model.adjust_rate(0.001)\n",
    "train(10)"
   ]
  },
  {
   "cell_type": "code",
   "execution_count": 155,
   "metadata": {},
   "outputs": [
    {
     "data": {
      "image/png": "[encoded data removed]",
      "text/plain": [
       "<Figure size 576x360 with 2 Axes>"
      ]
     },
     "metadata": {
      "needs_background": "light"
     },
     "output_type": "display_data"
    }
   ],
   "source": [
    "draw(loss_list,accur_list)"
   ]
  },
  {
   "cell_type": "code",
   "execution_count": null,
   "metadata": {},
   "outputs": [],
   "source": []
  }
 ],
 "metadata": {
  "kernelspec": {
   "display_name": "Python 3",
   "language": "python",
   "name": "python3"
  },
  "language_info": {
   "codemirror_mode": {
    "name": "ipython",
    "version": 3
   },
   "file_extension": ".py",
   "mimetype": "text/x-python",
   "name": "python",
   "nbconvert_exporter": "python",
   "pygments_lexer": "ipython3",
   "version": "3.6.8"
  },
  "latex_envs": {
   "LaTeX_envs_menu_present": true,
   "autoclose": false,
   "autocomplete": true,
   "bibliofile": "biblio.bib",
   "cite_by": "apalike",
   "current_citInitial": 1,
   "eqLabelWithNumbers": true,
   "eqNumInitial": 1,
   "hotkeys": {
    "equation": "Ctrl-E",
    "itemize": "Ctrl-I"
   },
   "labels_anchors": false,
   "latex_user_defs": false,
   "report_style_numbering": false,
   "user_envs_cfg": false
  }
 },
 "nbformat": 4,
 "nbformat_minor": 4
}
